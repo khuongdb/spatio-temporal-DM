{
 "cells": [
  {
   "cell_type": "code",
   "execution_count": 2,
   "id": "57648e17",
   "metadata": {},
   "outputs": [
    {
     "name": "stdout",
     "output_type": "stream",
     "text": [
      "/home/kdang/projects/spartDM\n",
      "Current working dir: /home/kdang/projects/spartDM\n"
     ]
    },
    {
     "name": "stderr",
     "output_type": "stream",
     "text": [
      "/home/kdang/projects/spartDM/.venv/lib/python3.10/site-packages/IPython/core/magics/osm.py:393: UserWarning: This is now an optional IPython functionality, using bookmarks requires you to install the `pickleshare` library.\n",
      "  bkms = self.shell.db.get('bookmarks', {})\n",
      "/home/kdang/projects/spartDM/.venv/lib/python3.10/site-packages/IPython/core/magics/osm.py:417: UserWarning: This is now an optional IPython functionality, setting dhist requires you to install the `pickleshare` library.\n",
      "  self.shell.db['dhist'] = compress_dhist(dhist)[-100:]\n"
     ]
    }
   ],
   "source": [
    "%cd \"~/projects/spartDM\"\n",
    "%load_ext autoreload\n",
    "%autoreload 2\n",
    "\n",
    "import os\n",
    "\n",
    "print(f\"Current working dir: {os.getcwd()}\")"
   ]
  },
  {
   "cell_type": "markdown",
   "id": "a2eb6bf1",
   "metadata": {},
   "source": [
    "# ViVit models"
   ]
  },
  {
   "cell_type": "code",
   "execution_count": 27,
   "id": "0bfc2a5b",
   "metadata": {},
   "outputs": [],
   "source": [
    "import json\n",
    "\n",
    "import matplotlib.pyplot as plt\n",
    "import numpy as np\n",
    "import pandas as pd\n",
    "import seaborn as sns\n",
    "import torch\n",
    "import torch.nn.functional as F\n",
    "import torchvision\n",
    "from einops import rearrange, repeat\n",
    "from matplotlib.gridspec import GridSpec\n",
    "from sklearn import svm\n",
    "\n",
    "from monai.data import DataLoader\n",
    "from src.data.datamodules.starmen import StarmenDataset\n",
    "from src.ldae.modules.ocsvm import standardize\n",
    "from src.ldae.utils import feature_distance, heat_map, patchify\n",
    "from src.utils.metrics import mae, mse, percnorm\n",
    "from src.utils.visualization import (\n",
    "    draw_featmap,\n",
    "    filter_gt_ano_region,\n",
    "    plot_comparison_starmen,\n",
    "    plot_kde_pixel,\n",
    ")\n",
    "from src.ldae.nets import ViViT\n",
    "\n",
    "device = torch.device(\"cuda\" if torch.cuda.is_available() else \"cpu\")"
   ]
  },
  {
   "cell_type": "code",
   "execution_count": null,
   "id": "afee777a",
   "metadata": {},
   "outputs": [
    {
     "name": "stdout",
     "output_type": "stream",
     "text": [
      "x_prev shape: torch.Size([2, 9, 1, 64, 64])\n",
      "x shape: torch.Size([2, 1, 64, 64])\n"
     ]
    }
   ],
   "source": [
    "# Import Data\n",
    "\n",
    "from monai.utils.misc import first\n",
    "\n",
    "train_ds = StarmenDataset(\n",
    "    data_dir=\"data/starmen/output_random_noacc\",\n",
    "    split=\"train\",\n",
    "    nb_subject=None,\n",
    ")\n",
    "train_loader = DataLoader(train_ds, batch_size=2, shuffle=True, num_workers=1)\n",
    "\n",
    "test = first(train_loader)\n",
    "test.keys()\n",
    "x_prev = test[\"x_prev\"]\n",
    "print(f\"x_prev shape: {x_prev.shape}\")\n",
    "x = test[\"x\"]\n",
    "print(f\"x shape: {x.shape}\")"
   ]
  },
  {
   "cell_type": "code",
   "execution_count": 66,
   "id": "7d233224",
   "metadata": {},
   "outputs": [],
   "source": [
    "# Init ViVit model\n",
    "vivit = ViViT((64, 64), (16, 16), 9, depth=1)\n",
    "\n",
    "# Forward pass\n",
    "out = vivit(x_prev)\n",
    "out.shape\n",
    "\n",
    "# Visualize model forward pass\n",
    "from torch.utils.tensorboard import SummaryWriter\n",
    "\n",
    "# Create SummaryWriter\n",
    "writer = SummaryWriter(log_dir=\"workdir/debug/vivit\")\n",
    "\n",
    "# Add model graph to TensorBoard\n",
    "writer.add_graph(vivit, x_prev)\n",
    "\n",
    "writer.close()\n",
    "\n"
   ]
  }
 ],
 "metadata": {
  "kernelspec": {
   "display_name": "spartDM",
   "language": "python",
   "name": "python3"
  },
  "language_info": {
   "codemirror_mode": {
    "name": "ipython",
    "version": 3
   },
   "file_extension": ".py",
   "mimetype": "text/x-python",
   "name": "python",
   "nbconvert_exporter": "python",
   "pygments_lexer": "ipython3",
   "version": "3.10.17"
  }
 },
 "nbformat": 4,
 "nbformat_minor": 5
}
