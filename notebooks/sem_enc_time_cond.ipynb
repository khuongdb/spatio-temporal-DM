{
 "cells": [
  {
   "cell_type": "code",
   "execution_count": 1,
   "id": "eba6bdeb",
   "metadata": {},
   "outputs": [
    {
     "name": "stdout",
     "output_type": "stream",
     "text": [
      "/home/kdang/projects/spartDM\n",
      "Current working dir: /home/kdang/projects/spartDM\n"
     ]
    },
    {
     "name": "stderr",
     "output_type": "stream",
     "text": [
      "/home/kdang/projects/spartDM/.venv/lib/python3.10/site-packages/IPython/core/magics/osm.py:393: UserWarning: This is now an optional IPython functionality, using bookmarks requires you to install the `pickleshare` library.\n",
      "  bkms = self.shell.db.get('bookmarks', {})\n",
      "/home/kdang/projects/spartDM/.venv/lib/python3.10/site-packages/IPython/core/magics/osm.py:417: UserWarning: This is now an optional IPython functionality, setting dhist requires you to install the `pickleshare` library.\n",
      "  self.shell.db['dhist'] = compress_dhist(dhist)[-100:]\n"
     ]
    }
   ],
   "source": [
    "%cd \"~/projects/spartDM\"\n",
    "%load_ext autoreload\n",
    "%autoreload 2\n",
    "\n",
    "import os\n",
    "\n",
    "print(f\"Current working dir: {os.getcwd()}\")\n",
    "\n",
    "import sys\n",
    "\n",
    "import pandas as pd\n",
    "import numpy as np\n",
    "\n",
    "import matplotlib.pyplot as plt\n",
    "import seaborn as sns\n",
    "%matplotlib inline"
   ]
  },
  {
   "cell_type": "code",
   "execution_count": 16,
   "id": "c457aaca",
   "metadata": {},
   "outputs": [
    {
     "name": "stdout",
     "output_type": "stream",
     "text": [
      "Backbone model loaded successfully.\n",
      "Frozen first 0 layers out of 161 in the backbone\n",
      "\n"
     ]
    }
   ],
   "source": [
    "from src.ldae.nets import SemanticEncoder\n",
    "import torch\n",
    "import torch.nn as nn\n",
    "import yaml \n",
    "\n",
    "config_path = \"configs/starmen_diffae_dim4.yaml\"\n",
    "\n",
    "with open(config_path, \"r\") as f:\n",
    "    cfg = yaml.safe_load(f)\n",
    "\n",
    "enc_args = cfg[\"fit\"][\"model\"][\"init_args\"][\"enc_args\"]\n",
    "\n",
    "encoder = SemanticEncoder(enc_args[\"backbone_args\"], emb_chans=4)"
   ]
  },
  {
   "cell_type": "code",
   "execution_count": 31,
   "id": "d6bcdeaf",
   "metadata": {},
   "outputs": [
    {
     "name": "stdout",
     "output_type": "stream",
     "text": [
      "conv1\n",
      "bn1\n",
      "relu\n",
      "maxpool\n",
      "layer1\n",
      "layer2\n",
      "layer3\n",
      "layer4\n",
      "avgpool\n",
      "fc\n"
     ]
    }
   ],
   "source": [
    "\n",
    "resnet = encoder.backbone.backbone\n",
    "for name, layer in resnet.named_children():\n",
    "    print(name)"
   ]
  },
  {
   "cell_type": "code",
   "execution_count": 65,
   "id": "0fad95ee",
   "metadata": {},
   "outputs": [
    {
     "data": {
      "text/plain": [
       "============================================================================================================================================\n",
       "Layer (type:depth-idx)                   Input Shape               Output Shape              Param #                   Kernel Shape\n",
       "============================================================================================================================================\n",
       "ResNet                                   [3, 1, 128, 128]          [3, 4]                    --                        --\n",
       "├─Conv2d: 1-1                            [3, 1, 128, 128]          [3, 64, 64, 64]           3,136                     [7, 7]\n",
       "├─BatchNorm2d: 1-2                       [3, 64, 64, 64]           [3, 64, 64, 64]           128                       --\n",
       "├─ReLU: 1-3                              [3, 64, 64, 64]           [3, 64, 64, 64]           --                        --\n",
       "├─MaxPool2d: 1-4                         [3, 64, 64, 64]           [3, 64, 32, 32]           --                        3\n",
       "├─Sequential: 1-5                        [3, 64, 32, 32]           [3, 256, 32, 32]          215,808                   --\n",
       "├─Sequential: 1-6                        [3, 256, 32, 32]          [3, 512, 16, 16]          1,219,584                 --\n",
       "├─Sequential: 1-7                        [3, 512, 16, 16]          [3, 1024, 8, 8]           7,098,368                 --\n",
       "├─Sequential: 1-8                        [3, 1024, 8, 8]           [3, 2048, 4, 4]           14,964,736                --\n",
       "├─AdaptiveAvgPool2d: 1-9                 [3, 2048, 4, 4]           [3, 2048, 1, 1]           --                        --\n",
       "├─Linear: 1-10                           [3, 2048]                 [3, 4]                    8,196                     --\n",
       "============================================================================================================================================\n",
       "Total params: 23,509,956\n",
       "Trainable params: 23,509,956\n",
       "Non-trainable params: 0\n",
       "Total mult-adds (G): 3.93\n",
       "============================================================================================================================================\n",
       "Input size (MB): 0.20\n",
       "Forward/backward pass size (MB): 174.19\n",
       "Params size (MB): 94.04\n",
       "Estimated Total Size (MB): 268.43\n",
       "============================================================================================================================================"
      ]
     },
     "execution_count": 65,
     "metadata": {},
     "output_type": "execute_result"
    }
   ],
   "source": [
    "from torchinfo import summary\n",
    "\n",
    "# Example input: batch_size=32, 3-channel image, 224x224\n",
    "summary(resnet, input_size=(3, 1, 128, 128), depth=1, col_names=[\"input_size\", \"output_size\", \"num_params\", \"kernel_size\"])\n"
   ]
  },
  {
   "cell_type": "code",
   "execution_count": 70,
   "id": "f7a10051",
   "metadata": {},
   "outputs": [],
   "source": [
    "import copy\n",
    "\n",
    "new_resnet = copy.deepcopy(resnet)"
   ]
  },
  {
   "cell_type": "code",
   "execution_count": 103,
   "id": "96ce45ec",
   "metadata": {},
   "outputs": [
    {
     "name": "stdout",
     "output_type": "stream",
     "text": [
      "Backbone model loaded successfully.\n",
      "Frozen first 0 layers out of 161 in the backbone\n",
      "\n"
     ]
    },
    {
     "data": {
      "text/plain": [
       "SemanticEncoderAgeCond(\n",
       "  (backbone): BackboneBaseModule(\n",
       "    (backbone): ResNet(\n",
       "      (conv1): Conv2d(1, 64, kernel_size=(7, 7), stride=(2, 2), padding=(3, 3), bias=False)\n",
       "      (bn1): BatchNorm2d(64, eps=1e-05, momentum=0.1, affine=True, track_running_stats=True)\n",
       "      (relu): ReLU(inplace=True)\n",
       "      (maxpool): MaxPool2d(kernel_size=3, stride=2, padding=1, dilation=1, ceil_mode=False)\n",
       "      (layer1): Sequential(\n",
       "        (0): Bottleneck(\n",
       "          (conv1): Conv2d(64, 64, kernel_size=(1, 1), stride=(1, 1), bias=False)\n",
       "          (bn1): BatchNorm2d(64, eps=1e-05, momentum=0.1, affine=True, track_running_stats=True)\n",
       "          (conv2): Conv2d(64, 64, kernel_size=(3, 3), stride=(1, 1), padding=(1, 1), bias=False)\n",
       "          (bn2): BatchNorm2d(64, eps=1e-05, momentum=0.1, affine=True, track_running_stats=True)\n",
       "          (conv3): Conv2d(64, 256, kernel_size=(1, 1), stride=(1, 1), bias=False)\n",
       "          (bn3): BatchNorm2d(256, eps=1e-05, momentum=0.1, affine=True, track_running_stats=True)\n",
       "          (relu): ReLU(inplace=True)\n",
       "          (downsample): Sequential(\n",
       "            (0): Conv2d(64, 256, kernel_size=(1, 1), stride=(1, 1), bias=False)\n",
       "            (1): BatchNorm2d(256, eps=1e-05, momentum=0.1, affine=True, track_running_stats=True)\n",
       "          )\n",
       "        )\n",
       "        (1): Bottleneck(\n",
       "          (conv1): Conv2d(256, 64, kernel_size=(1, 1), stride=(1, 1), bias=False)\n",
       "          (bn1): BatchNorm2d(64, eps=1e-05, momentum=0.1, affine=True, track_running_stats=True)\n",
       "          (conv2): Conv2d(64, 64, kernel_size=(3, 3), stride=(1, 1), padding=(1, 1), bias=False)\n",
       "          (bn2): BatchNorm2d(64, eps=1e-05, momentum=0.1, affine=True, track_running_stats=True)\n",
       "          (conv3): Conv2d(64, 256, kernel_size=(1, 1), stride=(1, 1), bias=False)\n",
       "          (bn3): BatchNorm2d(256, eps=1e-05, momentum=0.1, affine=True, track_running_stats=True)\n",
       "          (relu): ReLU(inplace=True)\n",
       "        )\n",
       "        (2): Bottleneck(\n",
       "          (conv1): Conv2d(256, 64, kernel_size=(1, 1), stride=(1, 1), bias=False)\n",
       "          (bn1): BatchNorm2d(64, eps=1e-05, momentum=0.1, affine=True, track_running_stats=True)\n",
       "          (conv2): Conv2d(64, 64, kernel_size=(3, 3), stride=(1, 1), padding=(1, 1), bias=False)\n",
       "          (bn2): BatchNorm2d(64, eps=1e-05, momentum=0.1, affine=True, track_running_stats=True)\n",
       "          (conv3): Conv2d(64, 256, kernel_size=(1, 1), stride=(1, 1), bias=False)\n",
       "          (bn3): BatchNorm2d(256, eps=1e-05, momentum=0.1, affine=True, track_running_stats=True)\n",
       "          (relu): ReLU(inplace=True)\n",
       "        )\n",
       "      )\n",
       "      (layer2): Sequential(\n",
       "        (0): Bottleneck(\n",
       "          (conv1): Conv2d(256, 128, kernel_size=(1, 1), stride=(1, 1), bias=False)\n",
       "          (bn1): BatchNorm2d(128, eps=1e-05, momentum=0.1, affine=True, track_running_stats=True)\n",
       "          (conv2): Conv2d(128, 128, kernel_size=(3, 3), stride=(2, 2), padding=(1, 1), bias=False)\n",
       "          (bn2): BatchNorm2d(128, eps=1e-05, momentum=0.1, affine=True, track_running_stats=True)\n",
       "          (conv3): Conv2d(128, 512, kernel_size=(1, 1), stride=(1, 1), bias=False)\n",
       "          (bn3): BatchNorm2d(512, eps=1e-05, momentum=0.1, affine=True, track_running_stats=True)\n",
       "          (relu): ReLU(inplace=True)\n",
       "          (downsample): Sequential(\n",
       "            (0): Conv2d(256, 512, kernel_size=(1, 1), stride=(2, 2), bias=False)\n",
       "            (1): BatchNorm2d(512, eps=1e-05, momentum=0.1, affine=True, track_running_stats=True)\n",
       "          )\n",
       "        )\n",
       "        (1): Bottleneck(\n",
       "          (conv1): Conv2d(512, 128, kernel_size=(1, 1), stride=(1, 1), bias=False)\n",
       "          (bn1): BatchNorm2d(128, eps=1e-05, momentum=0.1, affine=True, track_running_stats=True)\n",
       "          (conv2): Conv2d(128, 128, kernel_size=(3, 3), stride=(1, 1), padding=(1, 1), bias=False)\n",
       "          (bn2): BatchNorm2d(128, eps=1e-05, momentum=0.1, affine=True, track_running_stats=True)\n",
       "          (conv3): Conv2d(128, 512, kernel_size=(1, 1), stride=(1, 1), bias=False)\n",
       "          (bn3): BatchNorm2d(512, eps=1e-05, momentum=0.1, affine=True, track_running_stats=True)\n",
       "          (relu): ReLU(inplace=True)\n",
       "        )\n",
       "        (2): Bottleneck(\n",
       "          (conv1): Conv2d(512, 128, kernel_size=(1, 1), stride=(1, 1), bias=False)\n",
       "          (bn1): BatchNorm2d(128, eps=1e-05, momentum=0.1, affine=True, track_running_stats=True)\n",
       "          (conv2): Conv2d(128, 128, kernel_size=(3, 3), stride=(1, 1), padding=(1, 1), bias=False)\n",
       "          (bn2): BatchNorm2d(128, eps=1e-05, momentum=0.1, affine=True, track_running_stats=True)\n",
       "          (conv3): Conv2d(128, 512, kernel_size=(1, 1), stride=(1, 1), bias=False)\n",
       "          (bn3): BatchNorm2d(512, eps=1e-05, momentum=0.1, affine=True, track_running_stats=True)\n",
       "          (relu): ReLU(inplace=True)\n",
       "        )\n",
       "        (3): Bottleneck(\n",
       "          (conv1): Conv2d(512, 128, kernel_size=(1, 1), stride=(1, 1), bias=False)\n",
       "          (bn1): BatchNorm2d(128, eps=1e-05, momentum=0.1, affine=True, track_running_stats=True)\n",
       "          (conv2): Conv2d(128, 128, kernel_size=(3, 3), stride=(1, 1), padding=(1, 1), bias=False)\n",
       "          (bn2): BatchNorm2d(128, eps=1e-05, momentum=0.1, affine=True, track_running_stats=True)\n",
       "          (conv3): Conv2d(128, 512, kernel_size=(1, 1), stride=(1, 1), bias=False)\n",
       "          (bn3): BatchNorm2d(512, eps=1e-05, momentum=0.1, affine=True, track_running_stats=True)\n",
       "          (relu): ReLU(inplace=True)\n",
       "        )\n",
       "      )\n",
       "      (layer3): Sequential(\n",
       "        (0): Bottleneck(\n",
       "          (conv1): Conv2d(512, 256, kernel_size=(1, 1), stride=(1, 1), bias=False)\n",
       "          (bn1): BatchNorm2d(256, eps=1e-05, momentum=0.1, affine=True, track_running_stats=True)\n",
       "          (conv2): Conv2d(256, 256, kernel_size=(3, 3), stride=(2, 2), padding=(1, 1), bias=False)\n",
       "          (bn2): BatchNorm2d(256, eps=1e-05, momentum=0.1, affine=True, track_running_stats=True)\n",
       "          (conv3): Conv2d(256, 1024, kernel_size=(1, 1), stride=(1, 1), bias=False)\n",
       "          (bn3): BatchNorm2d(1024, eps=1e-05, momentum=0.1, affine=True, track_running_stats=True)\n",
       "          (relu): ReLU(inplace=True)\n",
       "          (downsample): Sequential(\n",
       "            (0): Conv2d(512, 1024, kernel_size=(1, 1), stride=(2, 2), bias=False)\n",
       "            (1): BatchNorm2d(1024, eps=1e-05, momentum=0.1, affine=True, track_running_stats=True)\n",
       "          )\n",
       "        )\n",
       "        (1): Bottleneck(\n",
       "          (conv1): Conv2d(1024, 256, kernel_size=(1, 1), stride=(1, 1), bias=False)\n",
       "          (bn1): BatchNorm2d(256, eps=1e-05, momentum=0.1, affine=True, track_running_stats=True)\n",
       "          (conv2): Conv2d(256, 256, kernel_size=(3, 3), stride=(1, 1), padding=(1, 1), bias=False)\n",
       "          (bn2): BatchNorm2d(256, eps=1e-05, momentum=0.1, affine=True, track_running_stats=True)\n",
       "          (conv3): Conv2d(256, 1024, kernel_size=(1, 1), stride=(1, 1), bias=False)\n",
       "          (bn3): BatchNorm2d(1024, eps=1e-05, momentum=0.1, affine=True, track_running_stats=True)\n",
       "          (relu): ReLU(inplace=True)\n",
       "        )\n",
       "        (2): Bottleneck(\n",
       "          (conv1): Conv2d(1024, 256, kernel_size=(1, 1), stride=(1, 1), bias=False)\n",
       "          (bn1): BatchNorm2d(256, eps=1e-05, momentum=0.1, affine=True, track_running_stats=True)\n",
       "          (conv2): Conv2d(256, 256, kernel_size=(3, 3), stride=(1, 1), padding=(1, 1), bias=False)\n",
       "          (bn2): BatchNorm2d(256, eps=1e-05, momentum=0.1, affine=True, track_running_stats=True)\n",
       "          (conv3): Conv2d(256, 1024, kernel_size=(1, 1), stride=(1, 1), bias=False)\n",
       "          (bn3): BatchNorm2d(1024, eps=1e-05, momentum=0.1, affine=True, track_running_stats=True)\n",
       "          (relu): ReLU(inplace=True)\n",
       "        )\n",
       "        (3): Bottleneck(\n",
       "          (conv1): Conv2d(1024, 256, kernel_size=(1, 1), stride=(1, 1), bias=False)\n",
       "          (bn1): BatchNorm2d(256, eps=1e-05, momentum=0.1, affine=True, track_running_stats=True)\n",
       "          (conv2): Conv2d(256, 256, kernel_size=(3, 3), stride=(1, 1), padding=(1, 1), bias=False)\n",
       "          (bn2): BatchNorm2d(256, eps=1e-05, momentum=0.1, affine=True, track_running_stats=True)\n",
       "          (conv3): Conv2d(256, 1024, kernel_size=(1, 1), stride=(1, 1), bias=False)\n",
       "          (bn3): BatchNorm2d(1024, eps=1e-05, momentum=0.1, affine=True, track_running_stats=True)\n",
       "          (relu): ReLU(inplace=True)\n",
       "        )\n",
       "        (4): Bottleneck(\n",
       "          (conv1): Conv2d(1024, 256, kernel_size=(1, 1), stride=(1, 1), bias=False)\n",
       "          (bn1): BatchNorm2d(256, eps=1e-05, momentum=0.1, affine=True, track_running_stats=True)\n",
       "          (conv2): Conv2d(256, 256, kernel_size=(3, 3), stride=(1, 1), padding=(1, 1), bias=False)\n",
       "          (bn2): BatchNorm2d(256, eps=1e-05, momentum=0.1, affine=True, track_running_stats=True)\n",
       "          (conv3): Conv2d(256, 1024, kernel_size=(1, 1), stride=(1, 1), bias=False)\n",
       "          (bn3): BatchNorm2d(1024, eps=1e-05, momentum=0.1, affine=True, track_running_stats=True)\n",
       "          (relu): ReLU(inplace=True)\n",
       "        )\n",
       "        (5): Bottleneck(\n",
       "          (conv1): Conv2d(1024, 256, kernel_size=(1, 1), stride=(1, 1), bias=False)\n",
       "          (bn1): BatchNorm2d(256, eps=1e-05, momentum=0.1, affine=True, track_running_stats=True)\n",
       "          (conv2): Conv2d(256, 256, kernel_size=(3, 3), stride=(1, 1), padding=(1, 1), bias=False)\n",
       "          (bn2): BatchNorm2d(256, eps=1e-05, momentum=0.1, affine=True, track_running_stats=True)\n",
       "          (conv3): Conv2d(256, 1024, kernel_size=(1, 1), stride=(1, 1), bias=False)\n",
       "          (bn3): BatchNorm2d(1024, eps=1e-05, momentum=0.1, affine=True, track_running_stats=True)\n",
       "          (relu): ReLU(inplace=True)\n",
       "        )\n",
       "      )\n",
       "      (layer4): Sequential(\n",
       "        (0): Bottleneck(\n",
       "          (conv1): Conv2d(1024, 512, kernel_size=(1, 1), stride=(1, 1), bias=False)\n",
       "          (bn1): BatchNorm2d(512, eps=1e-05, momentum=0.1, affine=True, track_running_stats=True)\n",
       "          (conv2): Conv2d(512, 512, kernel_size=(3, 3), stride=(2, 2), padding=(1, 1), bias=False)\n",
       "          (bn2): BatchNorm2d(512, eps=1e-05, momentum=0.1, affine=True, track_running_stats=True)\n",
       "          (conv3): Conv2d(512, 2048, kernel_size=(1, 1), stride=(1, 1), bias=False)\n",
       "          (bn3): BatchNorm2d(2048, eps=1e-05, momentum=0.1, affine=True, track_running_stats=True)\n",
       "          (relu): ReLU(inplace=True)\n",
       "          (downsample): Sequential(\n",
       "            (0): Conv2d(1024, 2048, kernel_size=(1, 1), stride=(2, 2), bias=False)\n",
       "            (1): BatchNorm2d(2048, eps=1e-05, momentum=0.1, affine=True, track_running_stats=True)\n",
       "          )\n",
       "        )\n",
       "        (1): Bottleneck(\n",
       "          (conv1): Conv2d(2048, 512, kernel_size=(1, 1), stride=(1, 1), bias=False)\n",
       "          (bn1): BatchNorm2d(512, eps=1e-05, momentum=0.1, affine=True, track_running_stats=True)\n",
       "          (conv2): Conv2d(512, 512, kernel_size=(3, 3), stride=(1, 1), padding=(1, 1), bias=False)\n",
       "          (bn2): BatchNorm2d(512, eps=1e-05, momentum=0.1, affine=True, track_running_stats=True)\n",
       "          (conv3): Conv2d(512, 2048, kernel_size=(1, 1), stride=(1, 1), bias=False)\n",
       "          (bn3): BatchNorm2d(2048, eps=1e-05, momentum=0.1, affine=True, track_running_stats=True)\n",
       "          (relu): ReLU(inplace=True)\n",
       "        )\n",
       "        (2): Bottleneck(\n",
       "          (conv1): Conv2d(2048, 512, kernel_size=(1, 1), stride=(1, 1), bias=False)\n",
       "          (bn1): BatchNorm2d(512, eps=1e-05, momentum=0.1, affine=True, track_running_stats=True)\n",
       "          (conv2): Conv2d(512, 512, kernel_size=(3, 3), stride=(1, 1), padding=(1, 1), bias=False)\n",
       "          (bn2): BatchNorm2d(512, eps=1e-05, momentum=0.1, affine=True, track_running_stats=True)\n",
       "          (conv3): Conv2d(512, 2048, kernel_size=(1, 1), stride=(1, 1), bias=False)\n",
       "          (bn3): BatchNorm2d(2048, eps=1e-05, momentum=0.1, affine=True, track_running_stats=True)\n",
       "          (relu): ReLU(inplace=True)\n",
       "        )\n",
       "      )\n",
       "      (avgpool): AdaptiveAvgPool2d(output_size=(1, 1))\n",
       "      (fc): Sequential(\n",
       "        (0): SiLU()\n",
       "        (1): Linear(in_features=2048, out_features=512, bias=True)\n",
       "        (2): SiLU()\n",
       "        (3): Linear(in_features=512, out_features=128, bias=True)\n",
       "        (4): SiLU()\n",
       "        (5): Linear(in_features=128, out_features=4, bias=True)\n",
       "        (6): Sigmoid()\n",
       "      )\n",
       "    )\n",
       "  )\n",
       "  (age_emb): SinusoidalPosEmb()\n",
       ")"
      ]
     },
     "execution_count": 103,
     "metadata": {},
     "output_type": "execute_result"
    }
   ],
   "source": [
    "from src.ldae.modules.positional_encoding import SinusoidalPosEmb\n",
    "\n",
    "class SemanticEncoderAgeCond(SemanticEncoder):\n",
    "    def __init__(self, backbone_args, emb_chans=4):\n",
    "        super().__init__(backbone_args, emb_chans)\n",
    "\n",
    "        self.backbone.backbone.fc = nn.Sequential(\n",
    "            nn.SiLU(),\n",
    "            nn.Linear(2048, 512),\n",
    "            nn.SiLU(),\n",
    "            nn.Linear(512, 128),\n",
    "            nn.SiLU(),\n",
    "            nn.Linear(128, 4),\n",
    "            nn.Sigmoid(),\n",
    "        )\n",
    "\n",
    "        self.age_emb = SinusoidalPosEmb(dim=emb_chans)\n",
    "\n",
    "    def forward(self, x, age):\n",
    "        age_emb = self.age_emb(age)\n",
    "        x = self.backbone(x)\n",
    "        return x + age_emb\n",
    "\n",
    "\n",
    "new_resnet = SemanticEncoderAgeCond(enc_args[\"backbone_args\"], emb_chans=4)\n",
    "new_resnet"
   ]
  },
  {
   "cell_type": "code",
   "execution_count": 102,
   "id": "bc9955c0",
   "metadata": {},
   "outputs": [
    {
     "data": {
      "text/plain": [
       "torch.Size([10, 4])"
      ]
     },
     "execution_count": 102,
     "metadata": {},
     "output_type": "execute_result"
    }
   ],
   "source": [
    "# summary(new_resnet, input_size=(3, 1, 64, 64), depth=3, col_names=[\"input_size\", \"output_size\", \"num_params\", \"kernel_size\"])\n",
    "\n",
    "dummy = torch.randn(10, 1, 64, 64)\n",
    "age = torch.rand(10)\n",
    "\n",
    "test_ysem = new_resnet(x=dummy, age=age)\n",
    "test_ysem.shape\n",
    "\n"
   ]
  },
  {
   "cell_type": "markdown",
   "id": "fad5e2b1",
   "metadata": {},
   "source": [
    "## Train dataloader"
   ]
  },
  {
   "cell_type": "code",
   "execution_count": 129,
   "id": "17f73bc8",
   "metadata": {},
   "outputs": [],
   "source": [
    "from src.data.datamodules import StarmenDataset\n",
    "from monai.data import DataLoader\n",
    "from monai.data.utils import first\n",
    "import torch\n",
    "from einops import rearrange\n",
    "\n",
    "train_ds = StarmenDataset(\n",
    "    data_dir=\"data/starmen/output_random_noacc\",\n",
    "    split=\"train\",\n",
    "    nb_subject=None,\n",
    ")\n",
    "\n",
    "\n",
    "train_loader = DataLoader(train_ds, batch_size=3, shuffle=True, num_workers=1)\n",
    "\n",
    "test_batch = first(iter(train_loader))"
   ]
  },
  {
   "cell_type": "code",
   "execution_count": 147,
   "id": "280de4e1",
   "metadata": {},
   "outputs": [
    {
     "data": {
      "text/plain": [
       "array([-4.26, -3.25, -2.25, -1.24, -0.24,  0.76,  1.77,  2.77,  3.78,\n",
       "        4.78, -4.81, -3.69, -2.57, -1.46, -0.34,  0.78,  1.9 ,  3.01,\n",
       "        4.13,  5.25, -0.96,  0.05,  1.05,  2.06,  3.07,  4.07,  5.08,\n",
       "        6.09,  7.09,  8.1 ], dtype=float32)"
      ]
     },
     "execution_count": 147,
     "metadata": {},
     "output_type": "execute_result"
    }
   ],
   "source": [
    "ages =test_batch[\"age\"]\n",
    "ages = rearrange(ages, \"b t -> (b t)\")\n",
    "\n",
    "x0 = test_batch[\"x_origin\"]\n",
    "x0 = rearrange(x0, \"b t ... -> (b t) ...\")\n",
    "x0.shape\n",
    "\n",
    "ages_np = test_batch[\"age\"].cpu().detach().numpy()\n",
    "ages_np = rearrange(ages_np, \"b t -> (b t)\")\n",
    "ages_np"
   ]
  },
  {
   "cell_type": "code",
   "execution_count": 149,
   "id": "ad1333f7",
   "metadata": {},
   "outputs": [
    {
     "data": {
      "text/plain": [
       "tensor([243, 964, 779])"
      ]
     },
     "execution_count": 149,
     "metadata": {},
     "output_type": "execute_result"
    }
   ],
   "source": [
    "test_batch[\"id\"]"
   ]
  },
  {
   "cell_type": "code",
   "execution_count": 136,
   "id": "6a5503d8",
   "metadata": {},
   "outputs": [
    {
     "data": {
      "text/plain": [
       "torch.Size([30, 4])"
      ]
     },
     "execution_count": 136,
     "metadata": {},
     "output_type": "execute_result"
    }
   ],
   "source": [
    "test_ysem = new_resnet(x=x0, age=ages)\n",
    "test_ysem.shape"
   ]
  },
  {
   "cell_type": "code",
   "execution_count": 164,
   "id": "f277c084",
   "metadata": {},
   "outputs": [],
   "source": [
    "ages_all = []\n",
    "ids_all = []\n",
    "\n",
    "for i, batch in enumerate(train_loader):\n",
    "    ## ID \n",
    "    ages = batch[\"age\"]\n",
    "    ages_flat = rearrange(ages, \"b t -> (b t)\")\n",
    "    ages_all.append(ages_flat.detach().cpu().numpy())\n",
    "\n",
    "    ## TIME (age)\n",
    "    p_ids = batch[\"id\"].cpu().numpy()\n",
    "    p_ids = np.repeat(p_ids, 10)\n",
    "    ids_all.append(p_ids)\n",
    "\n",
    "    # if i == 0:\n",
    "    #     break\n",
    "\n",
    "\n",
    "ages_all = np.concatenate(ages_all)\n",
    "ids_all = np.concatenate(ids_all)"
   ]
  },
  {
   "cell_type": "code",
   "execution_count": 166,
   "id": "04e4e0c8",
   "metadata": {},
   "outputs": [],
   "source": [
    "ysem_all = torch.randn(7000, 4)"
   ]
  },
  {
   "cell_type": "code",
   "execution_count": 172,
   "id": "013f7bd2",
   "metadata": {},
   "outputs": [
    {
     "data": {
      "text/html": [
       "<div>\n",
       "<style scoped>\n",
       "    .dataframe tbody tr th:only-of-type {\n",
       "        vertical-align: middle;\n",
       "    }\n",
       "\n",
       "    .dataframe tbody tr th {\n",
       "        vertical-align: top;\n",
       "    }\n",
       "\n",
       "    .dataframe thead th {\n",
       "        text-align: right;\n",
       "    }\n",
       "</style>\n",
       "<table border=\"1\" class=\"dataframe\">\n",
       "  <thead>\n",
       "    <tr style=\"text-align: right;\">\n",
       "      <th></th>\n",
       "      <th></th>\n",
       "      <th>dim_0</th>\n",
       "      <th>dim_1</th>\n",
       "      <th>dim_2</th>\n",
       "      <th>dim_3</th>\n",
       "    </tr>\n",
       "    <tr>\n",
       "      <th>ID</th>\n",
       "      <th>TIME</th>\n",
       "      <th></th>\n",
       "      <th></th>\n",
       "      <th></th>\n",
       "      <th></th>\n",
       "    </tr>\n",
       "  </thead>\n",
       "  <tbody>\n",
       "    <tr>\n",
       "      <th rowspan=\"10\" valign=\"top\">1</th>\n",
       "      <th>-6.55</th>\n",
       "      <td>0.102416</td>\n",
       "      <td>-0.456615</td>\n",
       "      <td>0.327368</td>\n",
       "      <td>-0.442899</td>\n",
       "    </tr>\n",
       "    <tr>\n",
       "      <th>-5.56</th>\n",
       "      <td>-1.116357</td>\n",
       "      <td>1.146028</td>\n",
       "      <td>-0.518082</td>\n",
       "      <td>-0.573103</td>\n",
       "    </tr>\n",
       "    <tr>\n",
       "      <th>-4.57</th>\n",
       "      <td>-1.323636</td>\n",
       "      <td>0.469699</td>\n",
       "      <td>-0.741832</td>\n",
       "      <td>2.313334</td>\n",
       "    </tr>\n",
       "    <tr>\n",
       "      <th>-3.58</th>\n",
       "      <td>-0.774971</td>\n",
       "      <td>-0.715238</td>\n",
       "      <td>0.396925</td>\n",
       "      <td>-0.743602</td>\n",
       "    </tr>\n",
       "    <tr>\n",
       "      <th>-2.60</th>\n",
       "      <td>-0.235038</td>\n",
       "      <td>1.227362</td>\n",
       "      <td>0.123059</td>\n",
       "      <td>-1.128107</td>\n",
       "    </tr>\n",
       "    <tr>\n",
       "      <th>-1.61</th>\n",
       "      <td>-1.556063</td>\n",
       "      <td>-1.452566</td>\n",
       "      <td>-0.204208</td>\n",
       "      <td>0.232274</td>\n",
       "    </tr>\n",
       "    <tr>\n",
       "      <th>-0.62</th>\n",
       "      <td>0.317203</td>\n",
       "      <td>-0.922622</td>\n",
       "      <td>-1.723516</td>\n",
       "      <td>0.080623</td>\n",
       "    </tr>\n",
       "    <tr>\n",
       "      <th>0.37</th>\n",
       "      <td>-0.151098</td>\n",
       "      <td>1.349612</td>\n",
       "      <td>1.164649</td>\n",
       "      <td>-0.884852</td>\n",
       "    </tr>\n",
       "    <tr>\n",
       "      <th>1.36</th>\n",
       "      <td>0.809014</td>\n",
       "      <td>0.075111</td>\n",
       "      <td>-1.034793</td>\n",
       "      <td>0.942618</td>\n",
       "    </tr>\n",
       "    <tr>\n",
       "      <th>2.35</th>\n",
       "      <td>-1.249408</td>\n",
       "      <td>0.352551</td>\n",
       "      <td>-0.225258</td>\n",
       "      <td>1.111448</td>\n",
       "    </tr>\n",
       "  </tbody>\n",
       "</table>\n",
       "</div>"
      ],
      "text/plain": [
       "             dim_0     dim_1     dim_2     dim_3\n",
       "ID TIME                                         \n",
       "1  -6.55  0.102416 -0.456615  0.327368 -0.442899\n",
       "   -5.56 -1.116357  1.146028 -0.518082 -0.573103\n",
       "   -4.57 -1.323636  0.469699 -0.741832  2.313334\n",
       "   -3.58 -0.774971 -0.715238  0.396925 -0.743602\n",
       "   -2.60 -0.235038  1.227362  0.123059 -1.128107\n",
       "   -1.61 -1.556063 -1.452566 -0.204208  0.232274\n",
       "   -0.62  0.317203 -0.922622 -1.723516  0.080623\n",
       "    0.37 -0.151098  1.349612  1.164649 -0.884852\n",
       "    1.36  0.809014  0.075111 -1.034793  0.942618\n",
       "    2.35 -1.249408  0.352551 -0.225258  1.111448"
      ]
     },
     "execution_count": 172,
     "metadata": {},
     "output_type": "execute_result"
    }
   ],
   "source": [
    "_, d = ysem_all.shape\n",
    "feature_cols = [f'dim_{i}' for i in range(d)]\n",
    "ysem_df = pd.DataFrame(ysem_all, columns=feature_cols)\n",
    "ysem_df.index = pd.MultiIndex.from_arrays([ids_all.astype(\"str\"), ages_all], names=[\"ID\", \"TIME\"])\n",
    "\n",
    "ysem_df.index.is_unique\n",
    "ysem_df.loc[[\"1\"]]"
   ]
  }
 ],
 "metadata": {
  "kernelspec": {
   "display_name": "spartDM",
   "language": "python",
   "name": "python3"
  },
  "language_info": {
   "codemirror_mode": {
    "name": "ipython",
    "version": 3
   },
   "file_extension": ".py",
   "mimetype": "text/x-python",
   "name": "python",
   "nbconvert_exporter": "python",
   "pygments_lexer": "ipython3",
   "version": "3.10.17"
  }
 },
 "nbformat": 4,
 "nbformat_minor": 5
}
