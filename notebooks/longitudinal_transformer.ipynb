{
 "cells": [
  {
   "cell_type": "code",
   "execution_count": 1,
   "id": "00e2ca41",
   "metadata": {},
   "outputs": [
    {
     "name": "stdout",
     "output_type": "stream",
     "text": [
      "/home/kdang/projects/spartDM\n",
      "Current working dir: /home/kdang/projects/spartDM\n"
     ]
    },
    {
     "name": "stderr",
     "output_type": "stream",
     "text": [
      "/home/kdang/projects/spartDM/.venv/lib/python3.10/site-packages/IPython/core/magics/osm.py:393: UserWarning: This is now an optional IPython functionality, using bookmarks requires you to install the `pickleshare` library.\n",
      "  bkms = self.shell.db.get('bookmarks', {})\n",
      "/home/kdang/projects/spartDM/.venv/lib/python3.10/site-packages/IPython/core/magics/osm.py:417: UserWarning: This is now an optional IPython functionality, setting dhist requires you to install the `pickleshare` library.\n",
      "  self.shell.db['dhist'] = compress_dhist(dhist)[-100:]\n"
     ]
    }
   ],
   "source": [
    "%cd \"~/projects/spartDM\"\n",
    "%load_ext autoreload\n",
    "%autoreload 2\n",
    "\n",
    "import os\n",
    "\n",
    "print(f\"Current working dir: {os.getcwd()}\")"
   ]
  },
  {
   "cell_type": "markdown",
   "id": "e3807f5d",
   "metadata": {},
   "source": [
    "# Init model"
   ]
  },
  {
   "cell_type": "code",
   "execution_count": 4,
   "id": "4238a7b2",
   "metadata": {},
   "outputs": [],
   "source": [
    "import torch\n",
    "from einops import rearrange\n",
    "\n",
    "device = torch.device(\"cpu\")\n"
   ]
  },
  {
   "cell_type": "code",
   "execution_count": 3,
   "id": "449db78a",
   "metadata": {},
   "outputs": [
    {
     "name": "stderr",
     "output_type": "stream",
     "text": [
      "/home/kdang/projects/spartDM/.venv/lib/python3.10/site-packages/generative/networks/layers/vector_quantizer.py:86: FutureWarning: `torch.cuda.amp.autocast(args...)` is deprecated. Please use `torch.amp.autocast('cuda', args...)` instead.\n",
      "  @torch.cuda.amp.autocast(enabled=False)\n",
      "/home/kdang/projects/spartDM/.venv/lib/python3.10/site-packages/generative/networks/layers/vector_quantizer.py:124: FutureWarning: `torch.cuda.amp.autocast(args...)` is deprecated. Please use `torch.amp.autocast('cuda', args...)` instead.\n",
      "  @torch.cuda.amp.autocast(enabled=False)\n"
     ]
    },
    {
     "name": "stdout",
     "output_type": "stream",
     "text": [
      "Backbone model loaded successfully.\n",
      "Frozen first 0 layers out of 161 in the backbone\n",
      "\n",
      "  | Name        | Type            | Params | Mode \n",
      "--------------------------------------------------------\n",
      "0 | decoder     | CondUNet        | 2.5 M  | train\n",
      "1 | encoder     | SemanticEncoder | 24.6 M | train\n",
      "2 | ema_encoder | SemanticEncoder | 24.6 M | eval \n",
      "3 | ema_decoder | CondUNet        | 2.5 M  | eval \n",
      "--------------------------------------------------------\n",
      "27.1 M    Trainable params\n",
      "27.1 M    Non-trainable params\n",
      "54.1 M    Total params\n",
      "216.547   Total estimated model params size (MB)\n",
      "492       Modules in train mode\n",
      "492       Modules in eval mode\n"
     ]
    }
   ],
   "source": [
    "# Trained encoder from representation-learning\n",
    "\n",
    "# CondDDPM model\n",
    "\n",
    "from src.ldae import CondDDPM\n",
    "from lightning.pytorch.utilities.model_summary import ModelSummary\n",
    "\n",
    "\n",
    "WORK_DIR = \"workdir/diffae_starmen\"\n",
    "# WORK_DIR = \"workdir/debug\"\n",
    "\n",
    "## Load model\n",
    "ckpt_path = os.path.join(WORK_DIR, \"representation-learning\", \"checkpoints\", \"best.ckpt\")\n",
    "\n",
    "device = torch.device(\"cuda\" if torch.cuda.is_available() else \"cpu\")\n",
    "\n",
    "diffae_litmodel = CondDDPM.load_from_checkpoint(ckpt_path, map_location=device)\n",
    "encoder = diffae_litmodel.ema_encoder\n",
    "encoder.eval()\n",
    "ema_decoder = diffae_litmodel.ema_decoder\n",
    "ema_decoder.eval()\n",
    "gaussian_diffusion = diffae_litmodel.gaussian_diffusion\n",
    "\n",
    "# Model summary\n",
    "\n",
    "summary = ModelSummary(diffae_litmodel, max_depth=1)\n",
    "print(summary)"
   ]
  },
  {
   "cell_type": "code",
   "execution_count": 131,
   "id": "3bf0b730",
   "metadata": {},
   "outputs": [],
   "source": [
    "# Longitudinal Transformer model\n",
    "from src.ldae.nets.longitudinal_transformer import LongTransformer\n",
    "\n",
    "import argparse\n",
    "\n",
    "lt_args = argparse.Namespace(\n",
    "    attn_map=True,\n",
    "    max_seq_len=10, \n",
    "    n_heads=8,\n",
    "    n_layers=2,\n",
    "    dropout=0.0,\n",
    "    learned_pe=False, \n",
    "    tpe=True,\n",
    "    step_ahead=True\n",
    ")\n",
    "\n",
    "long_transformer = LongTransformer(encoder=encoder, args=lt_args, device=device)"
   ]
  },
  {
   "cell_type": "markdown",
   "id": "c6761383",
   "metadata": {},
   "source": [
    "## Toy dataloader"
   ]
  },
  {
   "cell_type": "code",
   "execution_count": 22,
   "id": "b28622d1",
   "metadata": {},
   "outputs": [],
   "source": [
    "from src.data.datamodules import StarmenDataset\n",
    "from monai.data import DataLoader\n",
    "from monai.data.utils import first\n",
    "\n",
    "train_ds = StarmenDataset(\n",
    "    data_dir=\"data/starmen/output_random_noacc\",\n",
    "    split=\"train\",\n",
    "    nb_subject=None,\n",
    ")\n",
    "\n",
    "\n",
    "train_loader = DataLoader(train_ds, batch_size=2, shuffle=True, num_workers=1)\n",
    "\n",
    "test_batch = first(iter(train_loader))"
   ]
  },
  {
   "cell_type": "code",
   "execution_count": 38,
   "id": "28b73c01",
   "metadata": {},
   "outputs": [
    {
     "data": {
      "text/plain": [
       "torch.Size([2, 10])"
      ]
     },
     "execution_count": 38,
     "metadata": {},
     "output_type": "execute_result"
    }
   ],
   "source": [
    "x_org = test_batch[\"x_origin\"]\n",
    "x_org.shape\n",
    "\n",
    "age = test_batch[\"age\"]\n",
    "age.shape"
   ]
  },
  {
   "cell_type": "markdown",
   "id": "8eb2acbd",
   "metadata": {},
   "source": [
    "## Forward pass"
   ]
  },
  {
   "cell_type": "code",
   "execution_count": 133,
   "id": "a0540154",
   "metadata": {},
   "outputs": [
    {
     "data": {
      "text/plain": [
       "torch.Size([20, 1, 64, 64])"
      ]
     },
     "execution_count": 133,
     "metadata": {},
     "output_type": "execute_result"
    }
   ],
   "source": [
    "# prepare input\n",
    "seq_lengths = [10 for i in range(x_org.shape[0])]\n",
    "seq_lengths\n",
    "\n",
    "x = rearrange(x_org, \"b t ... -> (b t) ...\")\n",
    "x.shape"
   ]
  },
  {
   "cell_type": "code",
   "execution_count": 134,
   "id": "38a7050d",
   "metadata": {},
   "outputs": [],
   "source": [
    "self = long_transformer\n",
    "\n",
    "# Forward pass\n",
    "embeddings = self.encoder(x)\n",
    "\n",
    "# Reshape embeddings to batch_size x seq_length x n_features\n",
    "embeddings = embeddings.reshape(len(seq_lengths), self.args.max_seq_len, self.encoder.embedding_dim)\n",
    "embeddings.shape\n",
    "\n",
    "if self.args.tpe:\n",
    "    x = self.pos_encoder(embeddings, age)\n",
    "else:\n",
    "    x = self.pos_encoder(embeddings, None)\n"
   ]
  },
  {
   "cell_type": "code",
   "execution_count": 135,
   "id": "ef9fc84b",
   "metadata": {},
   "outputs": [],
   "source": [
    "# Create mask to ignore padding tokens. For each sequence of visits, mask all tokens beyond last visit\n",
    "# Here, 1 = pad (ignore), 0 = valid (keep)\n",
    "src_key_padding_mask = torch.ones((x.shape[0], x.shape[1])).float().to(self.device)  # batch x seq_length\n",
    "for i, seq_length in enumerate(seq_lengths):\n",
    "    src_key_padding_mask[i, :seq_length] = 0\n",
    "\n",
    "# Transformer modeling with \"decoder-style\" causal attention (only attend to current + PRIOR elements of each sequence)\n",
    "feats, attn_map = self.transformer(x, mask=self.causal_mask, src_key_padding_mask=src_key_padding_mask, is_causal=True, need_weights=self.args.attn_map)\n"
   ]
  },
  {
   "cell_type": "code",
   "execution_count": 149,
   "id": "1eb74fa1",
   "metadata": {},
   "outputs": [
    {
     "data": {
      "text/plain": [
       "torch.Size([2, 10, 512])"
      ]
     },
     "execution_count": 149,
     "metadata": {},
     "output_type": "execute_result"
    }
   ],
   "source": [
    "rel_times = age\n",
    "\n",
    "if self.args.step_ahead:\n",
    "    # Get time elapsed (delta) between consecutive visits\n",
    "    delta_times = torch.diff(rel_times)  # batch x max_seq_len-1\n",
    "    delta_times[delta_times < 0] = 0\n",
    "    delta_times = torch.nn.functional.pad(delta_times, (0, 1), 'constant', 0)  # batch x max_seq_len\n",
    "\n",
    "    # Use relative temporal timestep encoding to inform the model of \"# year of into the future for which to predict imaging features\"\n",
    "    delta_encoded_feats = self.rel_pos_encoder(feats, delta_times) \n",
    "\n",
    "    # Predict imaging features of *next* visit for each subsequence\n",
    "    feat_preds = self.step_ahead_predictor(delta_encoded_feats)\n",
    "\n",
    "    # Get actual imaging features of next visit\n",
    "    feat_targets = torch.nn.functional.pad(feats[:, 1:, :], (0, 0, 0, 1), 'constant', 0)\n",
    "\n",
    "feat_preds.shape"
   ]
  }
 ],
 "metadata": {
  "kernelspec": {
   "display_name": ".venv",
   "language": "python",
   "name": "python3"
  },
  "language_info": {
   "codemirror_mode": {
    "name": "ipython",
    "version": 3
   },
   "file_extension": ".py",
   "mimetype": "text/x-python",
   "name": "python",
   "nbconvert_exporter": "python",
   "pygments_lexer": "ipython3",
   "version": "3.10.17"
  }
 },
 "nbformat": 4,
 "nbformat_minor": 5
}
