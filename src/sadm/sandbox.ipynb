{
 "cells": [
  {
   "cell_type": "markdown",
   "id": "25f84243",
   "metadata": {},
   "source": [
    "# Dataset\n",
    "\n"
   ]
  },
  {
   "cell_type": "code",
   "execution_count": 1,
   "id": "2e980da0",
   "metadata": {},
   "outputs": [
    {
     "name": "stdout",
     "output_type": "stream",
     "text": [
      "Current working directory: /home/kdang/projects/spartDM\n"
     ]
    }
   ],
   "source": [
    "import os\n",
    "\n",
    "DATA_DIR = \"/home/kdang/projects/spartDM/data/starmen/output_random_noacc\"\n",
    "os.chdir(\"/home/kdang/projects/spartDM/\")\n",
    "print(\"Current working directory:\", os.getcwd())"
   ]
  },
  {
   "cell_type": "code",
   "execution_count": null,
   "id": "1f96f93b",
   "metadata": {},
   "outputs": [
    {
     "name": "stdout",
     "output_type": "stream",
     "text": [
      "(50, 5)\n"
     ]
    }
   ],
   "source": [
    "import numpy as np\n",
    "from torch.utils.data import DataLoader\n",
    "\n",
    "from src.data import StarmenDataset\n",
    "\n",
    "starmen = StarmenDataset(DATA_DIR, split=\"train\", nb_subject=5)\n",
    "print(starmen.datas.shape)\n",
    "train_loader = DataLoader(starmen, batch_size=2)\n",
    "\n",
    "# x, x_prev = next(iter(train_loader))\n",
    "\n"
   ]
  },
  {
   "cell_type": "code",
   "execution_count": null,
   "id": "680182eb",
   "metadata": {},
   "outputs": [],
   "source": [
    "import numpy as np\n",
    "\n",
    "from src.sadm.vivit import ViViT\n",
    "\n",
    "vivit = ViViT(\n",
    "    image_size = (64, 64),\n",
    "    patch_size = (16, 16),\n",
    "    num_frames = 9,\n",
    "    depth = 3,\n",
    "    heads = 3,\n",
    "    dim_head=8\n",
    ")"
   ]
  },
  {
   "cell_type": "code",
   "execution_count": null,
   "id": "36942831",
   "metadata": {},
   "outputs": [
    {
     "name": "stdout",
     "output_type": "stream",
     "text": [
      "After temporal transformer x.shape: torch.Size([2, 144, 1])\n",
      "torch.Size([2, 1, 144])\n"
     ]
    },
    {
     "data": {
      "text/plain": [
       "ModuleList(\n",
       "  (0): PreNorm(\n",
       "    (norm): LayerNorm((144,), eps=1e-05, elementwise_affine=True)\n",
       "    (fn): Attention(\n",
       "      (to_qkv): Linear(in_features=144, out_features=72, bias=False)\n",
       "      (to_out): Sequential(\n",
       "        (0): Linear(in_features=24, out_features=144, bias=True)\n",
       "        (1): Dropout(p=0.0, inplace=False)\n",
       "      )\n",
       "    )\n",
       "  )\n",
       "  (1): PreNorm(\n",
       "    (norm): LayerNorm((144,), eps=1e-05, elementwise_affine=True)\n",
       "    (fn): FeedForward(\n",
       "      (net): Sequential(\n",
       "        (0): Linear(in_features=144, out_features=144, bias=True)\n",
       "        (1): GELU(approximate='none')\n",
       "        (2): Dropout(p=0.0, inplace=False)\n",
       "      )\n",
       "    )\n",
       "  )\n",
       "  (2): Upsample(\n",
       "    (net): Sequential(\n",
       "      (0): Upsample(scale_factor=4.0, mode='nearest')\n",
       "      (1): Rearrange('b t (u d) -> b (u t) d', d=144)\n",
       "    )\n",
       "  )\n",
       ")"
      ]
     },
     "execution_count": 4,
     "metadata": {},
     "output_type": "execute_result"
    }
   ],
   "source": [
    "import torch\n",
    "from einops import rearrange\n",
    "from einops.layers.torch import Rearrange\n",
    "from torch import nn\n",
    "\n",
    "patch_size = (16, 16) \n",
    "p1, p2 = patch_size\n",
    "h, w = (4, 4)\n",
    "patch_dim = int(np.prod(patch_size))\n",
    "\n",
    "\n",
    "# c = vivit(x_prev)\n",
    "\n",
    "\n",
    "\n",
    "\n",
    "temporal_layer = vivit.temporal_transformer.layers\n",
    "len(temporal_layer)\n",
    "vivit.temporal_dims\n",
    "\n",
    "\n",
    "x_prev.shape\n",
    "x = vivit.to_patch_embedding(x_prev)\n",
    "b, t, n, d = x.shape\n",
    "x += vivit.pos_embedding\n",
    "x = vivit.dropout(x)\n",
    "x = rearrange(x, \"b t n d -> b (t n) d\")\n",
    "x = vivit.temporal_transformer(x)\n",
    "\n",
    "print(f\"After temporal transformer x.shape: {x.shape}\")\n",
    "\n",
    "# Perform space transformer\n",
    "\n",
    "space_layer = vivit.space_transformer.layers\n",
    "len(space_layer)\n",
    "\n",
    "\n",
    "# vivit.space_dims\n",
    "x = rearrange(x, \"b (t n) d -> b d (t n)\", b=2, t=9, n=16)\n",
    "print(x.shape)\n",
    "\n",
    "space_layer[0]"
   ]
  },
  {
   "cell_type": "code",
   "execution_count": 6,
   "id": "26d7b39b",
   "metadata": {},
   "outputs": [
    {
     "name": "stdout",
     "output_type": "stream",
     "text": [
      "torch.Size([2, 256, 144])\n",
      "x upsample Conv2d shape: torch.Size([2, 256, 2304])\n",
      "Rearrange shape: torch.Size([2, 144, 64, 64])\n",
      "Output x: torch.Size([2, 1, 64, 64]) (b c H W)\n"
     ]
    }
   ],
   "source": [
    "vivit.temporal_transformer.layers[0]\n",
    "\n",
    "vivit.space_dims\n",
    "\n",
    "x_ups = vivit.space_transformer(x)\n",
    "print(x_ups.shape)\n",
    "\n",
    "# Conv2D last layers\n",
    "conv = vivit.conv\n",
    "x1 = conv[0](x_ups)\n",
    "print(f\"x upsample Conv2d shape: {x1.shape}\")\n",
    "x2 = conv[1](x1)\n",
    "print(f\"Rearrange shape: {x2.shape}\")\n",
    "conv[-1]\n",
    "x3 = conv[-1](x2)\n",
    "print(f\"Output x: {x3.shape} (b c H W)\")"
   ]
  },
  {
   "cell_type": "markdown",
   "id": "2d5e0fc3",
   "metadata": {},
   "source": [
    "## Visualize output"
   ]
  },
  {
   "cell_type": "code",
   "execution_count": 9,
   "id": "c78a4954",
   "metadata": {},
   "outputs": [
    {
     "name": "stdout",
     "output_type": "stream",
     "text": [
      "(27, 2, 1, 64, 64)\n"
     ]
    },
    {
     "data": {
      "text/plain": [
       "<matplotlib.image.AxesImage at 0x7acfe2e70940>"
      ]
     },
     "execution_count": 9,
     "metadata": {},
     "output_type": "execute_result"
    },
    {
     "data": {
      "image/png": "[encoded data removed]",
      "text/plain": [
       "<Figure size 480x480 with 1 Axes>"
      ]
     },
     "metadata": {},
     "output_type": "display_data"
    }
   ],
   "source": [
    "import numpy as np\n",
    "import matplotlib.pyplot as plt\n",
    "\n",
    "\n",
    "output_dir = \"outdirs/x_gen_0.npy\"\n",
    "x_gen0 = np.load(output_dir)\n",
    "x_gen0.shape\n",
    "\n",
    "x_gen_store = np.load(\"outdirs/x_gen_store_0.npy\")\n",
    "print(x_gen_store.shape)\n",
    "\n",
    "img = x_gen_store[0][0].squeeze()\n",
    "plt.matshow(img, cmap=\"gray\")"
   ]
  }
 ],
 "metadata": {
  "kernelspec": {
   "display_name": ".venv",
   "language": "python",
   "name": "python3"
  },
  "language_info": {
   "codemirror_mode": {
    "name": "ipython",
    "version": 3
   },
   "file_extension": ".py",
   "mimetype": "text/x-python",
   "name": "python",
   "nbconvert_exporter": "python",
   "pygments_lexer": "ipython3",
   "version": "3.10.17"
  }
 },
 "nbformat": 4,
 "nbformat_minor": 5
}
