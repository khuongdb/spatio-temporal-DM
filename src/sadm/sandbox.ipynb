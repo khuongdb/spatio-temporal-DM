{
 "cells": [
  {
   "cell_type": "markdown",
   "id": "25f84243",
   "metadata": {},
   "source": [
    "# Dataset\n",
    "\n"
   ]
  },
  {
   "cell_type": "code",
   "execution_count": 1,
   "id": "2e980da0",
   "metadata": {},
   "outputs": [
    {
     "name": "stdout",
     "output_type": "stream",
     "text": [
      "Current working directory: /home/kdang/projects/spartDM\n"
     ]
    }
   ],
   "source": [
    "import os\n",
    "\n",
    "train_infos = \"/home/kdang/projects/spartDM/data/starmen/output_random_noacc/starmen_train.csv\"\n",
    "os.chdir(\"/home/kdang/projects/spartDM/\")\n",
    "print(\"Current working directory:\", os.getcwd())"
   ]
  },
  {
   "cell_type": "code",
   "execution_count": 2,
   "id": "1f96f93b",
   "metadata": {},
   "outputs": [],
   "source": [
    "from src.data import StarmenDataset\n",
    "from torch.utils.data import DataLoader\n",
    "\n",
    "\n",
    "starmen = StarmenDataset(train_infos)\n",
    "\n",
    "train_loader = DataLoader(starmen, batch_size=2)\n",
    "\n",
    "x, x_prev = next(iter(train_loader))"
   ]
  },
  {
   "cell_type": "code",
   "execution_count": 3,
   "id": "680182eb",
   "metadata": {},
   "outputs": [],
   "source": [
    "from src.sadm.vivit import ViViT\n",
    "import numpy as np \n",
    "\n",
    "\n",
    "vivit = ViViT(\n",
    "    image_size = (64, 64),\n",
    "    patch_size = (16, 16),\n",
    "    num_frames = 9,\n",
    "    depth = 3,\n",
    "    heads = 3,\n",
    "    dim_head=8\n",
    ")"
   ]
  },
  {
   "cell_type": "code",
   "execution_count": 45,
   "id": "36942831",
   "metadata": {},
   "outputs": [
    {
     "name": "stdout",
     "output_type": "stream",
     "text": [
      "After temporal transformer x.shape: torch.Size([2, 144, 1])\n"
     ]
    },
    {
     "data": {
      "text/plain": [
       "ModuleList(\n",
       "  (0): PreNorm(\n",
       "    (norm): LayerNorm((144,), eps=1e-05, elementwise_affine=True)\n",
       "    (fn): Attention(\n",
       "      (to_qkv): Linear(in_features=144, out_features=72, bias=False)\n",
       "      (to_out): Sequential(\n",
       "        (0): Linear(in_features=24, out_features=144, bias=True)\n",
       "        (1): Dropout(p=0.0, inplace=False)\n",
       "      )\n",
       "    )\n",
       "  )\n",
       "  (1): PreNorm(\n",
       "    (norm): LayerNorm((144,), eps=1e-05, elementwise_affine=True)\n",
       "    (fn): FeedForward(\n",
       "      (net): Sequential(\n",
       "        (0): Linear(in_features=144, out_features=144, bias=True)\n",
       "        (1): GELU(approximate='none')\n",
       "        (2): Dropout(p=0.0, inplace=False)\n",
       "      )\n",
       "    )\n",
       "  )\n",
       "  (2): Upsample(\n",
       "    (net): Sequential(\n",
       "      (0): Upsample(scale_factor=8.0, mode='nearest')\n",
       "      (1): Rearrange('b t (u d) -> b (u t) d', d=144, u=8)\n",
       "    )\n",
       "  )\n",
       ")"
      ]
     },
     "execution_count": 45,
     "metadata": {},
     "output_type": "execute_result"
    }
   ],
   "source": [
    "from einops.layers.torch import Rearrange\n",
    "from torch import nn\n",
    "import torch\n",
    "from einops import rearrange\n",
    "\n",
    "patch_size = (16, 16) \n",
    "p1, p2 = patch_size\n",
    "h, w = (4, 4)\n",
    "patch_dim = int(np.prod(patch_size))\n",
    "\n",
    "\n",
    "# c = vivit(x_prev)\n",
    "\n",
    "\n",
    "\n",
    "\n",
    "temporal_layer = vivit.temporal_transformer.layers\n",
    "len(temporal_layer)\n",
    "vivit.temporal_dims\n",
    "\n",
    "\n",
    "x_prev.shape\n",
    "x = vivit.to_patch_embedding(x_prev)\n",
    "b, t, n, d = x.shape\n",
    "x += vivit.pos_embedding\n",
    "x = vivit.dropout(x)\n",
    "x = rearrange(x, \"b t n d -> b (t n) d\")\n",
    "x = vivit.temporal_transformer(x)\n",
    "\n",
    "print(f\"After temporal transformer x.shape: {x.shape}\")\n",
    "\n",
    "# Perform space transformer\n",
    "\n",
    "space_layer = vivit.space_transformer.layers\n",
    "len(space_layer)\n",
    "\n",
    "space_layer[3]\n",
    "\n",
    "# vivit.space_dims\n",
    "\n"
   ]
  }
 ],
 "metadata": {
  "kernelspec": {
   "display_name": ".venv",
   "language": "python",
   "name": "python3"
  },
  "language_info": {
   "codemirror_mode": {
    "name": "ipython",
    "version": 3
   },
   "file_extension": ".py",
   "mimetype": "text/x-python",
   "name": "python",
   "nbconvert_exporter": "python",
   "pygments_lexer": "ipython3",
   "version": "3.10.17"
  }
 },
 "nbformat": 4,
 "nbformat_minor": 5
}
